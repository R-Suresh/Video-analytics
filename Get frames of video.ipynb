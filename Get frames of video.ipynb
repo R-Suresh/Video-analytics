{
 "cells": [
  {
   "cell_type": "markdown",
   "metadata": {},
   "source": [
    "## Meta -\n",
    "\n",
    "Step 1 of shelf store app for video processing.\n",
    "This file given a video chooses few frames using the logic highlighted below.\n",
    "\n",
    "## Author - Rahul Suresh"
   ]
  },
  {
   "cell_type": "markdown",
   "metadata": {},
   "source": [
    "Imports"
   ]
  },
  {
   "cell_type": "code",
   "execution_count": 1,
   "metadata": {},
   "outputs": [],
   "source": [
    "import cv2\n",
    "import os\n",
    "import glob"
   ]
  },
  {
   "cell_type": "code",
   "execution_count": 2,
   "metadata": {},
   "outputs": [],
   "source": [
    "fps=30"
   ]
  },
  {
   "cell_type": "markdown",
   "metadata": {},
   "source": [
    "Clear Out folder first"
   ]
  },
  {
   "cell_type": "code",
   "execution_count": 3,
   "metadata": {},
   "outputs": [],
   "source": [
    "def clear():\n",
    "    mydir='/home/rahulsuresh/python-environments/csv/inputs'\n",
    "    filelist = glob.glob(os.path.join(mydir, \"*.jpg\"))\n",
    "    for f in filelist:\n",
    "        os.remove(f)"
   ]
  },
  {
   "cell_type": "markdown",
   "metadata": {},
   "source": [
    "Extract frames from beggning"
   ]
  },
  {
   "cell_type": "code",
   "execution_count": 4,
   "metadata": {},
   "outputs": [],
   "source": [
    "def extract_beggning():\n",
    "    save=2 #save one image every \"save\" seconds\n",
    "    vidcap = cv2.VideoCapture('/home/rahulsuresh/python-environments/csv/videos/VID_20190131_145622.mp4')\n",
    "    success,image = vidcap.read()\n",
    "    count = 0\n",
    "    while success:\n",
    "        if((count%(fps*save))==0):\n",
    "            #cv2.imwrite(\"/home/rahulsuresh/python-environments/csv/videos/frames/frame%d.jpg\" % count, image)\n",
    "            cv2.imwrite(\"/home/rahulsuresh/python-environments/csv/inputs/frame%d.jpg\" % count, image)\n",
    "            # save frame as JPEG file      \n",
    "        success,image = vidcap.read()\n",
    "        #print('Read a new frame: ', success)\n",
    "        count += 1"
   ]
  },
  {
   "cell_type": "markdown",
   "metadata": {},
   "source": [
    "Extract frames from the middle of a second"
   ]
  },
  {
   "cell_type": "code",
   "execution_count": 5,
   "metadata": {},
   "outputs": [],
   "source": [
    "def extract_mid():\n",
    "    vidcap = cv2.VideoCapture('/home/rahulsuresh/python-environments/csv/videos/VID_20190131_145622.mp4')\n",
    "    success,image = vidcap.read()\n",
    "    count = 1\n",
    "    num=1\n",
    "    #num = num \n",
    "    # + 1 -> 2 every second\n",
    "    # + 2 -> 1 every second\n",
    "    # + 4 -> 1/3 every second\n",
    "    # + 6 -> 1/4 every second\n",
    "#     flag=1\n",
    "    while success:\n",
    "        if((count%((fps//2)*num))==0):\n",
    "            num=num+4\n",
    "            #cv2.imwrite(\"/home/rahulsuresh/python-environments/csv/videos/frames/frame%d.jpg\" % count, image)\n",
    "#             if(flag==1):\n",
    "            cv2.imwrite(\"/home/rahulsuresh/python-environments/csv/inputs/frame%d.jpg\" % count, image)\n",
    "#                 flag=0\n",
    "#             else:\n",
    "#                 flag=1\n",
    "            # save frame as JPEG file      \n",
    "        success,image = vidcap.read()\n",
    "        #print('Read a new frame: ', success)\n",
    "        count += 1"
   ]
  },
  {
   "cell_type": "markdown",
   "metadata": {},
   "source": [
    "Driver Code"
   ]
  },
  {
   "cell_type": "code",
   "execution_count": 6,
   "metadata": {},
   "outputs": [],
   "source": [
    "clear()\n",
    "extract_mid()"
   ]
  },
  {
   "cell_type": "markdown",
   "metadata": {},
   "source": [
    "The project has 3 different modules where we can spend time improving\n",
    "1. Preprocessing\n",
    "2. String Matching\n",
    "3. OCR file writing"
   ]
  }
 ],
 "metadata": {
  "kernelspec": {
   "display_name": "Python 3",
   "language": "python",
   "name": "python3"
  },
  "language_info": {
   "codemirror_mode": {
    "name": "ipython",
    "version": 3
   },
   "file_extension": ".py",
   "mimetype": "text/x-python",
   "name": "python",
   "nbconvert_exporter": "python",
   "pygments_lexer": "ipython3",
   "version": "3.5.2"
  }
 },
 "nbformat": 4,
 "nbformat_minor": 2
}
