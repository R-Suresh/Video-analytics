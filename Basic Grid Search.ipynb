{
 "cells": [
  {
   "cell_type": "markdown",
   "metadata": {},
   "source": [
    "## Meta -\n",
    "\n",
    "This file shows sklearn grid search done using sklearn\n",
    "\n",
    "## Author - Rahul Suresh"
   ]
  },
  {
   "cell_type": "code",
   "execution_count": null,
   "metadata": {},
   "outputs": [],
   "source": [
    "#try grid search, 10 fold cross validation"
   ]
  },
  {
   "cell_type": "code",
   "execution_count": 1,
   "metadata": {},
   "outputs": [],
   "source": [
    "import numpy as np\n",
    "from sklearn import datasets, svm\n",
    "import matplotlib.pyplot as plt\n",
    "from sklearn.model_selection import GridSearchCV"
   ]
  },
  {
   "cell_type": "code",
   "execution_count": 2,
   "metadata": {},
   "outputs": [
    {
     "name": "stdout",
     "output_type": "stream",
     "text": [
      "The scikit-learn version is 0.20.2.\n"
     ]
    }
   ],
   "source": [
    "import sklearn\n",
    "\n",
    "print('The scikit-learn version is {}.'.format(sklearn.__version__))"
   ]
  },
  {
   "cell_type": "code",
   "execution_count": null,
   "metadata": {},
   "outputs": [],
   "source": [
    "#perform grid search for MLP in keras\n",
    "#keras models can be used in ski-kit learn by using KerasClassifier class"
   ]
  },
  {
   "cell_type": "code",
   "execution_count": 3,
   "metadata": {},
   "outputs": [
    {
     "name": "stderr",
     "output_type": "stream",
     "text": [
      "Using TensorFlow backend.\n"
     ]
    }
   ],
   "source": [
    "from __future__ import print_function\n",
    "import numpy as np\n",
    "import matplotlib.pyplot as plt\n",
    "import keras\n",
    "from keras.models import Sequential\n",
    "from keras.layers import Dense, Conv2D, MaxPooling2D, Dropout, Flatten\n",
    "from keras.utils import to_categorical\n",
    "from keras.callbacks import ModelCheckpoint\n",
    "from keras.models import load_model\n",
    "from keras.datasets import mnist\n",
    "from keras.wrappers.scikit_learn import KerasClassifier\n",
    "from sklearn.model_selection import StratifiedKFold\n",
    "from sklearn.model_selection import cross_val_score"
   ]
  },
  {
   "cell_type": "code",
   "execution_count": 4,
   "metadata": {},
   "outputs": [
    {
     "name": "stdout",
     "output_type": "stream",
     "text": [
      "Training data shape :  (60000, 28, 28) (60000,)\n",
      "Testing data shape :  (10000, 28, 28) (10000,)\n"
     ]
    }
   ],
   "source": [
    "(train_images, train_labels), (test_images, test_labels) = mnist.load_data()\n",
    "print('Training data shape : ', train_images.shape, train_labels.shape)\n",
    " \n",
    "print('Testing data shape : ', test_images.shape, test_labels.shape)\n",
    "# Find the unique numbers from the train labels\n",
    "classes = np.unique(train_labels)\n",
    "nClasses = len(classes)"
   ]
  },
  {
   "cell_type": "code",
   "execution_count": 5,
   "metadata": {},
   "outputs": [],
   "source": [
    "# Change from matrix to array of dimension 28x28 to array of dimention 784\n",
    "dimData=np.prod(train_images.shape[1:])\n",
    "train_data = train_images.reshape(train_images.shape[0], dimData)\n",
    "test_data = test_images.reshape(test_images.shape[0], dimData)\n",
    "train_data = train_data.astype('float32')\n",
    "test_data = test_data.astype('float32')\n",
    "train_data /= 255\n",
    "test_data /= 255\n",
    "train_labels_one_hot = to_categorical(train_labels)\n",
    "test_labels_one_hot = to_categorical(test_labels)"
   ]
  },
  {
   "cell_type": "code",
   "execution_count": 6,
   "metadata": {},
   "outputs": [],
   "source": [
    "def create_model_compile(dropout1,dropout2):\n",
    "    model = Sequential()\n",
    "    model.add(Dense(512,activation='relu',input_shape=(dimData,), kernel_initializer='glorot_uniform'))\n",
    "    model.add(Dropout(dropout1))\n",
    "    model.add(Dense(512,activation='relu',kernel_initializer='glorot_uniform'))\n",
    "    model.add(Dropout(dropout2))\n",
    "    model.add(Dense(nClasses,activation='softmax',kernel_initializer='glorot_uniform'))\n",
    "    model.compile(optimizer='adam', loss='kullback_leibler_divergence', metrics=['accuracy'])\n",
    "    model.summary()\n",
    "    return model"
   ]
  },
  {
   "cell_type": "code",
   "execution_count": 7,
   "metadata": {},
   "outputs": [],
   "source": [
    "model = KerasClassifier(build_fn=create_model_compile, epochs=10, batch_size=256)"
   ]
  },
  {
   "cell_type": "code",
   "execution_count": null,
   "metadata": {},
   "outputs": [],
   "source": [
    "#parameter_candidates = [\n",
    "#  {'C': [1, 10, 100, 1000], 'kernel': ['linear']},\n",
    "#  {'C': [1, 10, 100, 1000], 'gamma': [0.001, 0.0001], 'kernel': ['rbf']},\n",
    "#]"
   ]
  },
  {
   "cell_type": "code",
   "execution_count": null,
   "metadata": {},
   "outputs": [],
   "source": [
    "# Create a classifier object with the classifier and parameter candidates\n",
    "#clf = GridSearchCV(estimator=svm.SVC(), param_grid=parameter_candidates, n_jobs=-1)\n",
    "\n",
    "# Train the classifier on data1's feature and target data\n",
    "#clf.fit(data1_features, data1_target)"
   ]
  },
  {
   "cell_type": "code",
   "execution_count": 9,
   "metadata": {},
   "outputs": [
    {
     "name": "stderr",
     "output_type": "stream",
     "text": [
      "/home/rahulsuresh/python-environments/env/lib/python3.5/site-packages/sklearn/model_selection/_split.py:2053: FutureWarning: You should specify a value for 'cv' instead of relying on the default value. The default value will change from 3 to 5 in version 0.22.\n",
      "  warnings.warn(CV_WARNING, FutureWarning)\n"
     ]
    },
    {
     "name": "stdout",
     "output_type": "stream",
     "text": [
      "_________________________________________________________________\n",
      "Layer (type)                 Output Shape              Param #   \n",
      "=================================================================\n",
      "dense_1 (Dense)              (None, 512)               401920    \n",
      "_________________________________________________________________\n",
      "dropout_1 (Dropout)          (None, 512)               0         \n",
      "_________________________________________________________________\n",
      "dense_2 (Dense)              (None, 512)               262656    \n",
      "_________________________________________________________________\n",
      "dropout_2 (Dropout)          (None, 512)               0         \n",
      "_________________________________________________________________\n",
      "dense_3 (Dense)              (None, 10)                5130      \n",
      "=================================================================\n",
      "Total params: 669,706\n",
      "Trainable params: 669,706\n",
      "Non-trainable params: 0\n",
      "_________________________________________________________________\n",
      "Epoch 1/10\n",
      "60000/60000 [==============================] - 6s 106us/step - loss: 0.3609 - acc: 0.8902\n",
      "Epoch 2/10\n",
      "60000/60000 [==============================] - 6s 99us/step - loss: 0.1591 - acc: 0.9525\n",
      "Epoch 3/10\n",
      "60000/60000 [==============================] - 6s 99us/step - loss: 0.1203 - acc: 0.9622\n",
      "Epoch 4/10\n",
      "60000/60000 [==============================] - 6s 100us/step - loss: 0.1013 - acc: 0.9684\n",
      "Epoch 5/10\n",
      "60000/60000 [==============================] - 6s 99us/step - loss: 0.0893 - acc: 0.9720\n",
      "Epoch 6/10\n",
      "60000/60000 [==============================] - 6s 106us/step - loss: 0.0783 - acc: 0.9759\n",
      "Epoch 7/10\n",
      "60000/60000 [==============================] - 6s 99us/step - loss: 0.0717 - acc: 0.9769\n",
      "Epoch 8/10\n",
      "60000/60000 [==============================] - 6s 100us/step - loss: 0.0658 - acc: 0.9791\n",
      "Epoch 9/10\n",
      "60000/60000 [==============================] - 6s 102us/step - loss: 0.0588 - acc: 0.9816\n",
      "Epoch 10/10\n",
      "60000/60000 [==============================] - 6s 105us/step - loss: 0.0538 - acc: 0.9820\n"
     ]
    }
   ],
   "source": [
    "param_grid = dict(dropout1=[0.2,0.5,0.52],dropout2=[0.2,0.5,0.52])\n",
    "grid = GridSearchCV(estimator=model, param_grid=param_grid, n_jobs=-1)\n",
    "grid_result = grid.fit(train_data, train_labels_one_hot)"
   ]
  },
  {
   "cell_type": "code",
   "execution_count": 10,
   "metadata": {},
   "outputs": [
    {
     "data": {
      "text/plain": [
       "{'dropout1': [0.2, 0.5, 0.52], 'dropout2': [0.2, 0.5, 0.52]}"
      ]
     },
     "execution_count": 10,
     "metadata": {},
     "output_type": "execute_result"
    }
   ],
   "source": [
    "param_grid"
   ]
  },
  {
   "cell_type": "code",
   "execution_count": null,
   "metadata": {},
   "outputs": [],
   "source": [
    "#points to note, use smaller subset of train data to get results faster"
   ]
  },
  {
   "cell_type": "code",
   "execution_count": 11,
   "metadata": {},
   "outputs": [
    {
     "name": "stdout",
     "output_type": "stream",
     "text": [
      "Best score for train_data: 0.9779833333333333\n"
     ]
    }
   ],
   "source": [
    "# View the accuracy score\n",
    "print('Best score for train_data:', grid.best_score_)"
   ]
  },
  {
   "cell_type": "code",
   "execution_count": 12,
   "metadata": {},
   "outputs": [
    {
     "name": "stdout",
     "output_type": "stream",
     "text": [
      "Best: 0.977983 using {'dropout1': 0.52, 'dropout2': 0.2}\n",
      "0.976867 (0.002098) with: {'dropout1': 0.2, 'dropout2': 0.2}\n",
      "0.976400 (0.000698) with: {'dropout1': 0.2, 'dropout2': 0.5}\n",
      "0.976433 (0.000660) with: {'dropout1': 0.2, 'dropout2': 0.52}\n",
      "0.977700 (0.000991) with: {'dropout1': 0.5, 'dropout2': 0.2}\n",
      "0.977283 (0.001426) with: {'dropout1': 0.5, 'dropout2': 0.5}\n",
      "0.976383 (0.001076) with: {'dropout1': 0.5, 'dropout2': 0.52}\n",
      "0.977983 (0.001674) with: {'dropout1': 0.52, 'dropout2': 0.2}\n",
      "0.976783 (0.001100) with: {'dropout1': 0.52, 'dropout2': 0.5}\n",
      "0.976017 (0.002118) with: {'dropout1': 0.52, 'dropout2': 0.52}\n"
     ]
    }
   ],
   "source": [
    "# summarize results\n",
    "print(\"Best: %f using %s\" % (grid_result.best_score_, grid_result.best_params_))\n",
    "means = grid_result.cv_results_['mean_test_score']\n",
    "stds = grid_result.cv_results_['std_test_score']\n",
    "params = grid_result.cv_results_['params']\n",
    "for mean, stdev, param in zip(means, stds, params):\n",
    "    print(\"%f (%f) with: %r\" % (mean, stdev, param))"
   ]
  },
  {
   "cell_type": "code",
   "execution_count": 13,
   "metadata": {},
   "outputs": [
    {
     "name": "stdout",
     "output_type": "stream",
     "text": [
      "10000/10000 [==============================] - 0s 34us/step\n"
     ]
    },
    {
     "data": {
      "text/plain": [
       "0.9823"
      ]
     },
     "execution_count": 13,
     "metadata": {},
     "output_type": "execute_result"
    }
   ],
   "source": [
    "grid.score(test_data, test_labels_one_hot)"
   ]
  },
  {
   "cell_type": "code",
   "execution_count": null,
   "metadata": {},
   "outputs": [],
   "source": [
    "#try to get number of epochs and batch size"
   ]
  },
  {
   "cell_type": "code",
   "execution_count": null,
   "metadata": {},
   "outputs": [],
   "source": [
    "#try this in keras\n",
    "#I feel we need to use things like functions in create model to add layers and num neurons in each layer \n",
    "#by giving parameters explicitly"
   ]
  },
  {
   "cell_type": "code",
   "execution_count": null,
   "metadata": {},
   "outputs": [],
   "source": [
    "#how many epochs is it trained for?"
   ]
  },
  {
   "cell_type": "code",
   "execution_count": 18,
   "metadata": {},
   "outputs": [],
   "source": [
    "def create_model_compile2():\n",
    "    model = Sequential()\n",
    "    model.add(Dense(512,activation='relu',input_shape=(dimData,), kernel_initializer='glorot_uniform'))\n",
    "    model.add(Dropout(0.52))\n",
    "    model.add(Dense(512,activation='relu',kernel_initializer='glorot_uniform'))\n",
    "    model.add(Dropout(0.2))\n",
    "    model.add(Dense(nClasses,activation='softmax',kernel_initializer='glorot_uniform'))\n",
    "    model.compile(optimizer='adam', loss='kullback_leibler_divergence', metrics=['accuracy'])\n",
    "    model.summary()\n",
    "    return model"
   ]
  },
  {
   "cell_type": "code",
   "execution_count": 14,
   "metadata": {},
   "outputs": [],
   "source": [
    "train_data_small= train_data[:2000]\n",
    "train_labels_one_hot_small=train_labels_one_hot[:2000]"
   ]
  },
  {
   "cell_type": "code",
   "execution_count": 19,
   "metadata": {},
   "outputs": [],
   "source": [
    "model2 = KerasClassifier(build_fn=create_model_compile2, verbose=1)"
   ]
  },
  {
   "cell_type": "code",
   "execution_count": 20,
   "metadata": {},
   "outputs": [
    {
     "name": "stderr",
     "output_type": "stream",
     "text": [
      "/home/rahulsuresh/python-environments/env/lib/python3.5/site-packages/sklearn/model_selection/_split.py:2053: FutureWarning: You should specify a value for 'cv' instead of relying on the default value. The default value will change from 3 to 5 in version 0.22.\n",
      "  warnings.warn(CV_WARNING, FutureWarning)\n"
     ]
    },
    {
     "name": "stdout",
     "output_type": "stream",
     "text": [
      "_________________________________________________________________\n",
      "Layer (type)                 Output Shape              Param #   \n",
      "=================================================================\n",
      "dense_4 (Dense)              (None, 512)               401920    \n",
      "_________________________________________________________________\n",
      "dropout_3 (Dropout)          (None, 512)               0         \n",
      "_________________________________________________________________\n",
      "dense_5 (Dense)              (None, 512)               262656    \n",
      "_________________________________________________________________\n",
      "dropout_4 (Dropout)          (None, 512)               0         \n",
      "_________________________________________________________________\n",
      "dense_6 (Dense)              (None, 10)                5130      \n",
      "=================================================================\n",
      "Total params: 669,706\n",
      "Trainable params: 669,706\n",
      "Non-trainable params: 0\n",
      "_________________________________________________________________\n",
      "Epoch 1/100\n",
      "2000/2000 [==============================] - 2s 1ms/step - loss: 0.8635 - acc: 0.7310\n",
      "Epoch 2/100\n",
      "2000/2000 [==============================] - 2s 983us/step - loss: 0.4115 - acc: 0.8660\n",
      "Epoch 3/100\n",
      "2000/2000 [==============================] - 2s 983us/step - loss: 0.2930 - acc: 0.9140\n",
      "Epoch 4/100\n",
      "2000/2000 [==============================] - 2s 997us/step - loss: 0.2352 - acc: 0.9230\n",
      "Epoch 5/100\n",
      "2000/2000 [==============================] - 2s 982us/step - loss: 0.2031 - acc: 0.9370\n",
      "Epoch 6/100\n",
      "2000/2000 [==============================] - 2s 981us/step - loss: 0.1682 - acc: 0.9395\n",
      "Epoch 7/100\n",
      "2000/2000 [==============================] - 2s 988us/step - loss: 0.1379 - acc: 0.9510\n",
      "Epoch 8/100\n",
      "2000/2000 [==============================] - 2s 976us/step - loss: 0.1461 - acc: 0.9550\n",
      "Epoch 9/100\n",
      "2000/2000 [==============================] - 2s 986us/step - loss: 0.1189 - acc: 0.9590\n",
      "Epoch 10/100\n",
      "2000/2000 [==============================] - 2s 989us/step - loss: 0.1215 - acc: 0.9605\n",
      "Epoch 11/100\n",
      "2000/2000 [==============================] - 2s 977us/step - loss: 0.0875 - acc: 0.9710\n",
      "Epoch 12/100\n",
      "2000/2000 [==============================] - 2s 975us/step - loss: 0.0971 - acc: 0.9645\n",
      "Epoch 13/100\n",
      "2000/2000 [==============================] - 2s 994us/step - loss: 0.1049 - acc: 0.9615\n",
      "Epoch 14/100\n",
      "2000/2000 [==============================] - 2s 994us/step - loss: 0.0943 - acc: 0.9745\n",
      "Epoch 15/100\n",
      "2000/2000 [==============================] - 2s 990us/step - loss: 0.0864 - acc: 0.9715\n",
      "Epoch 16/100\n",
      "2000/2000 [==============================] - 2s 981us/step - loss: 0.1019 - acc: 0.9710\n",
      "Epoch 17/100\n",
      "2000/2000 [==============================] - 2s 980us/step - loss: 0.0496 - acc: 0.9830\n",
      "Epoch 18/100\n",
      "2000/2000 [==============================] - 2s 982us/step - loss: 0.0578 - acc: 0.9800\n",
      "Epoch 19/100\n",
      "2000/2000 [==============================] - 2s 981us/step - loss: 0.0897 - acc: 0.9730\n",
      "Epoch 20/100\n",
      "2000/2000 [==============================] - 2s 985us/step - loss: 0.0896 - acc: 0.9700\n",
      "Epoch 21/100\n",
      "2000/2000 [==============================] - 2s 978us/step - loss: 0.0662 - acc: 0.9785\n",
      "Epoch 22/100\n",
      "2000/2000 [==============================] - 2s 984us/step - loss: 0.0676 - acc: 0.9765\n",
      "Epoch 23/100\n",
      "2000/2000 [==============================] - 2s 983us/step - loss: 0.0862 - acc: 0.9715\n",
      "Epoch 24/100\n",
      "2000/2000 [==============================] - 2s 978us/step - loss: 0.0687 - acc: 0.9795\n",
      "Epoch 25/100\n",
      "2000/2000 [==============================] - 2s 977us/step - loss: 0.0746 - acc: 0.9820\n",
      "Epoch 26/100\n",
      "2000/2000 [==============================] - 2s 976us/step - loss: 0.0693 - acc: 0.9785\n",
      "Epoch 27/100\n",
      "2000/2000 [==============================] - 2s 980us/step - loss: 0.0740 - acc: 0.9785\n",
      "Epoch 28/100\n",
      "2000/2000 [==============================] - 2s 988us/step - loss: 0.0623 - acc: 0.9830\n",
      "Epoch 29/100\n",
      "2000/2000 [==============================] - 2s 987us/step - loss: 0.0385 - acc: 0.9870\n",
      "Epoch 30/100\n",
      "2000/2000 [==============================] - 2s 986us/step - loss: 0.0378 - acc: 0.9900\n",
      "Epoch 31/100\n",
      "2000/2000 [==============================] - 2s 978us/step - loss: 0.0404 - acc: 0.9885\n",
      "Epoch 32/100\n",
      "2000/2000 [==============================] - 2s 984us/step - loss: 0.0513 - acc: 0.9875\n",
      "Epoch 33/100\n",
      "2000/2000 [==============================] - 2s 978us/step - loss: 0.0935 - acc: 0.9725\n",
      "Epoch 34/100\n",
      "2000/2000 [==============================] - 2s 980us/step - loss: 0.0495 - acc: 0.9865\n",
      "Epoch 35/100\n",
      "2000/2000 [==============================] - 2s 982us/step - loss: 0.0688 - acc: 0.9800\n",
      "Epoch 36/100\n",
      "2000/2000 [==============================] - 2s 978us/step - loss: 0.0541 - acc: 0.9820\n",
      "Epoch 37/100\n",
      "2000/2000 [==============================] - 2s 983us/step - loss: 0.0675 - acc: 0.9815\n",
      "Epoch 38/100\n",
      "2000/2000 [==============================] - 2s 975us/step - loss: 0.0317 - acc: 0.9910\n",
      "Epoch 39/100\n",
      "2000/2000 [==============================] - 2s 983us/step - loss: 0.0476 - acc: 0.9840\n",
      "Epoch 40/100\n",
      "2000/2000 [==============================] - 2s 989us/step - loss: 0.0422 - acc: 0.9880\n",
      "Epoch 41/100\n",
      "2000/2000 [==============================] - 2s 984us/step - loss: 0.0524 - acc: 0.9875\n",
      "Epoch 42/100\n",
      "2000/2000 [==============================] - 2s 980us/step - loss: 0.0872 - acc: 0.9780\n",
      "Epoch 43/100\n",
      "2000/2000 [==============================] - 2s 979us/step - loss: 0.0637 - acc: 0.9810\n",
      "Epoch 44/100\n",
      "2000/2000 [==============================] - 2s 978us/step - loss: 0.0657 - acc: 0.9835\n",
      "Epoch 45/100\n",
      "2000/2000 [==============================] - 2s 983us/step - loss: 0.0495 - acc: 0.9865\n",
      "Epoch 46/100\n",
      "2000/2000 [==============================] - 2s 990us/step - loss: 0.0470 - acc: 0.9875\n",
      "Epoch 47/100\n",
      "2000/2000 [==============================] - 2s 974us/step - loss: 0.0593 - acc: 0.9845\n",
      "Epoch 48/100\n",
      "2000/2000 [==============================] - 2s 979us/step - loss: 0.0398 - acc: 0.9920\n",
      "Epoch 49/100\n",
      "2000/2000 [==============================] - 2s 979us/step - loss: 0.0518 - acc: 0.9860\n",
      "Epoch 50/100\n",
      "2000/2000 [==============================] - 2s 978us/step - loss: 0.0410 - acc: 0.9890\n",
      "Epoch 51/100\n",
      "2000/2000 [==============================] - 2s 983us/step - loss: 0.0394 - acc: 0.9890\n",
      "Epoch 52/100\n",
      "2000/2000 [==============================] - 2s 979us/step - loss: 0.0691 - acc: 0.9835\n",
      "Epoch 53/100\n",
      "2000/2000 [==============================] - 2s 990us/step - loss: 0.0394 - acc: 0.9890\n",
      "Epoch 54/100\n",
      "2000/2000 [==============================] - 2s 979us/step - loss: 0.0331 - acc: 0.9895\n",
      "Epoch 55/100\n",
      "2000/2000 [==============================] - 2s 989us/step - loss: 0.0494 - acc: 0.9885\n",
      "Epoch 56/100\n",
      "2000/2000 [==============================] - 2s 977us/step - loss: 0.0461 - acc: 0.9870\n",
      "Epoch 57/100\n",
      "2000/2000 [==============================] - 2s 986us/step - loss: 0.0267 - acc: 0.9920\n",
      "Epoch 58/100\n",
      "2000/2000 [==============================] - 2s 977us/step - loss: 0.0332 - acc: 0.9890\n",
      "Epoch 59/100\n",
      "2000/2000 [==============================] - 2s 976us/step - loss: 0.0463 - acc: 0.9880\n",
      "Epoch 60/100\n",
      "2000/2000 [==============================] - 2s 980us/step - loss: 0.0416 - acc: 0.9880\n",
      "Epoch 61/100\n",
      "2000/2000 [==============================] - 2s 976us/step - loss: 0.0313 - acc: 0.9925\n",
      "Epoch 62/100\n",
      "2000/2000 [==============================] - 2s 979us/step - loss: 0.0475 - acc: 0.9875\n",
      "Epoch 63/100\n",
      "2000/2000 [==============================] - 2s 979us/step - loss: 0.0868 - acc: 0.9785\n",
      "Epoch 64/100\n",
      "2000/2000 [==============================] - 2s 975us/step - loss: 0.0878 - acc: 0.9785\n",
      "Epoch 65/100\n",
      "2000/2000 [==============================] - 2s 983us/step - loss: 0.0307 - acc: 0.9900\n",
      "Epoch 66/100\n",
      "2000/2000 [==============================] - 2s 1ms/step - loss: 0.0760 - acc: 0.9835\n",
      "Epoch 67/100\n",
      "2000/2000 [==============================] - 2s 979us/step - loss: 0.0426 - acc: 0.9885\n",
      "Epoch 68/100\n",
      "2000/2000 [==============================] - 2s 986us/step - loss: 0.0534 - acc: 0.9880\n",
      "Epoch 69/100\n",
      "2000/2000 [==============================] - 2s 976us/step - loss: 0.0328 - acc: 0.9900\n",
      "Epoch 70/100\n",
      "2000/2000 [==============================] - 2s 980us/step - loss: 0.0418 - acc: 0.9930\n",
      "Epoch 71/100\n",
      "2000/2000 [==============================] - 2s 981us/step - loss: 0.0500 - acc: 0.9885\n",
      "Epoch 72/100\n",
      "2000/2000 [==============================] - 2s 980us/step - loss: 0.0495 - acc: 0.9875\n",
      "Epoch 73/100\n",
      "2000/2000 [==============================] - 2s 981us/step - loss: 0.0555 - acc: 0.9855\n",
      "Epoch 74/100\n",
      "2000/2000 [==============================] - 2s 978us/step - loss: 0.0259 - acc: 0.9925\n",
      "Epoch 75/100\n",
      "2000/2000 [==============================] - 2s 995us/step - loss: 0.0562 - acc: 0.9890\n",
      "Epoch 76/100\n",
      "2000/2000 [==============================] - 2s 993us/step - loss: 0.0494 - acc: 0.9890\n",
      "Epoch 77/100\n",
      "2000/2000 [==============================] - 2s 982us/step - loss: 0.0368 - acc: 0.9910\n",
      "Epoch 78/100\n",
      "2000/2000 [==============================] - 2s 981us/step - loss: 0.0392 - acc: 0.9920\n",
      "Epoch 79/100\n",
      "2000/2000 [==============================] - 2s 981us/step - loss: 0.0357 - acc: 0.9915\n",
      "Epoch 80/100\n",
      "2000/2000 [==============================] - 2s 975us/step - loss: 0.0524 - acc: 0.9930\n",
      "Epoch 81/100\n",
      "2000/2000 [==============================] - 2s 977us/step - loss: 0.0264 - acc: 0.9925\n",
      "Epoch 82/100\n",
      "2000/2000 [==============================] - 2s 977us/step - loss: 0.0444 - acc: 0.9905\n",
      "Epoch 83/100\n",
      "2000/2000 [==============================] - 2s 984us/step - loss: 0.0339 - acc: 0.9940\n",
      "Epoch 84/100\n",
      "2000/2000 [==============================] - 2s 982us/step - loss: 0.0299 - acc: 0.9940\n",
      "Epoch 85/100\n",
      "2000/2000 [==============================] - 2s 977us/step - loss: 0.0334 - acc: 0.9915\n",
      "Epoch 86/100\n",
      "2000/2000 [==============================] - 2s 975us/step - loss: 0.0389 - acc: 0.9900\n",
      "Epoch 87/100\n",
      "2000/2000 [==============================] - 2s 995us/step - loss: 0.0222 - acc: 0.9940\n",
      "Epoch 88/100\n",
      "2000/2000 [==============================] - 2s 972us/step - loss: 0.0656 - acc: 0.9850\n",
      "Epoch 89/100\n",
      "2000/2000 [==============================] - 2s 979us/step - loss: 0.0436 - acc: 0.9890\n",
      "Epoch 90/100\n",
      "2000/2000 [==============================] - 2s 974us/step - loss: 0.0455 - acc: 0.9895\n",
      "Epoch 91/100\n",
      "2000/2000 [==============================] - 2s 983us/step - loss: 0.0339 - acc: 0.9935\n",
      "Epoch 92/100\n",
      "2000/2000 [==============================] - 2s 982us/step - loss: 0.0306 - acc: 0.9920\n",
      "Epoch 93/100\n",
      "2000/2000 [==============================] - 2s 983us/step - loss: 0.0407 - acc: 0.9885\n",
      "Epoch 94/100\n",
      "2000/2000 [==============================] - 2s 975us/step - loss: 0.0291 - acc: 0.9940\n",
      "Epoch 95/100\n",
      "2000/2000 [==============================] - 2s 981us/step - loss: 0.0558 - acc: 0.9900\n",
      "Epoch 96/100\n",
      "2000/2000 [==============================] - 2s 973us/step - loss: 0.0799 - acc: 0.9845\n",
      "Epoch 97/100\n",
      "2000/2000 [==============================] - 2s 978us/step - loss: 0.0594 - acc: 0.9880\n",
      "Epoch 98/100\n",
      "2000/2000 [==============================] - 2s 977us/step - loss: 0.0565 - acc: 0.9895\n",
      "Epoch 99/100\n",
      "2000/2000 [==============================] - 2s 983us/step - loss: 0.0264 - acc: 0.9940\n",
      "Epoch 100/100\n",
      "2000/2000 [==============================] - 2s 987us/step - loss: 0.0508 - acc: 0.9915\n"
     ]
    }
   ],
   "source": [
    "batch_size = [10, 20, 40, 80, 100,256,300]\n",
    "epochs = [10, 50, 100]\n",
    "param_grid2 = dict(batch_size=batch_size, epochs=epochs)\n",
    "grid2 = GridSearchCV(estimator=model2, param_grid=param_grid2, n_jobs=-1)\n",
    "grid_result2 = grid2.fit(train_data_small, train_labels_one_hot_small)"
   ]
  },
  {
   "cell_type": "code",
   "execution_count": 21,
   "metadata": {},
   "outputs": [
    {
     "name": "stdout",
     "output_type": "stream",
     "text": [
      "Best: 0.918000 using {'batch_size': 10, 'epochs': 100}\n",
      "0.899500 (0.012846) with: {'batch_size': 10, 'epochs': 10}\n",
      "0.911500 (0.017986) with: {'batch_size': 10, 'epochs': 50}\n",
      "0.918000 (0.017880) with: {'batch_size': 10, 'epochs': 100}\n",
      "0.906500 (0.014034) with: {'batch_size': 20, 'epochs': 10}\n",
      "0.907000 (0.011769) with: {'batch_size': 20, 'epochs': 50}\n",
      "0.913500 (0.011336) with: {'batch_size': 20, 'epochs': 100}\n",
      "0.903500 (0.016923) with: {'batch_size': 40, 'epochs': 10}\n",
      "0.912500 (0.018662) with: {'batch_size': 40, 'epochs': 50}\n",
      "0.907500 (0.022547) with: {'batch_size': 40, 'epochs': 100}\n",
      "0.905000 (0.025091) with: {'batch_size': 80, 'epochs': 10}\n",
      "0.907500 (0.017381) with: {'batch_size': 80, 'epochs': 50}\n",
      "0.915000 (0.009309) with: {'batch_size': 80, 'epochs': 100}\n",
      "0.901000 (0.014059) with: {'batch_size': 100, 'epochs': 10}\n",
      "0.910000 (0.025259) with: {'batch_size': 100, 'epochs': 50}\n",
      "0.911000 (0.017154) with: {'batch_size': 100, 'epochs': 100}\n",
      "0.897000 (0.016476) with: {'batch_size': 256, 'epochs': 10}\n",
      "0.908000 (0.013452) with: {'batch_size': 256, 'epochs': 50}\n",
      "0.914000 (0.018663) with: {'batch_size': 256, 'epochs': 100}\n",
      "0.894000 (0.015742) with: {'batch_size': 300, 'epochs': 10}\n",
      "0.910000 (0.017994) with: {'batch_size': 300, 'epochs': 50}\n",
      "0.907000 (0.012370) with: {'batch_size': 300, 'epochs': 100}\n"
     ]
    }
   ],
   "source": [
    "# summarize results\n",
    "print(\"Best: %f using %s\" % (grid_result2.best_score_, grid_result2.best_params_))\n",
    "means = grid_result2.cv_results_['mean_test_score']\n",
    "stds = grid_result2.cv_results_['std_test_score']\n",
    "params = grid_result2.cv_results_['params']\n",
    "for mean, stdev, param in zip(means, stds, params):\n",
    "    print(\"%f (%f) with: %r\" % (mean, stdev, param))"
   ]
  },
  {
   "cell_type": "code",
   "execution_count": 22,
   "metadata": {},
   "outputs": [
    {
     "name": "stdout",
     "output_type": "stream",
     "text": [
      "10000/10000 [==============================] - 0s 34us/step\n"
     ]
    },
    {
     "data": {
      "text/plain": [
       "0.9823"
      ]
     },
     "execution_count": 22,
     "metadata": {},
     "output_type": "execute_result"
    }
   ],
   "source": [
    "grid.score(test_data, test_labels_one_hot)"
   ]
  },
  {
   "cell_type": "code",
   "execution_count": null,
   "metadata": {},
   "outputs": [],
   "source": []
  }
 ],
 "metadata": {
  "kernelspec": {
   "display_name": "Python 3",
   "language": "python",
   "name": "python3"
  },
  "language_info": {
   "codemirror_mode": {
    "name": "ipython",
    "version": 3
   },
   "file_extension": ".py",
   "mimetype": "text/x-python",
   "name": "python",
   "nbconvert_exporter": "python",
   "pygments_lexer": "ipython3",
   "version": "3.5.2"
  }
 },
 "nbformat": 4,
 "nbformat_minor": 2
}
