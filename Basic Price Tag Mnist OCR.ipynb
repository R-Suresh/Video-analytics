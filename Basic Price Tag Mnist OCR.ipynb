{
 "cells": [
  {
   "cell_type": "code",
   "execution_count": 1,
   "metadata": {},
   "outputs": [
    {
     "name": "stderr",
     "output_type": "stream",
     "text": [
      "Using TensorFlow backend.\n",
      "/home/rahulsuresh/python-environments/env/lib/python3.5/site-packages/requests/__init__.py:91: RequestsDependencyWarning: urllib3 (1.24.1) or chardet (2.3.0) doesn't match a supported version!\n",
      "  RequestsDependencyWarning)\n"
     ]
    }
   ],
   "source": [
    "#MNIST model through segmented image\n",
    "from PIL import Image\n",
    "import numpy as np\n",
    "import matplotlib.pyplot as plt\n",
    "from keras.models import load_model\n",
    "from PIL import Image\n",
    "import scipy"
   ]
  },
  {
   "cell_type": "code",
   "execution_count": 2,
   "metadata": {},
   "outputs": [],
   "source": [
    "img = Image.open('pricelabel_digit2.jpg' )\n",
    "img.load()\n",
    "img = img.convert('1')\n",
    "data = np.asarray( img, dtype=\"int32\" )"
   ]
  },
  {
   "cell_type": "code",
   "execution_count": 3,
   "metadata": {},
   "outputs": [
    {
     "data": {
      "text/plain": [
       "Text(0.5, 1.0, 'Input Image')"
      ]
     },
     "execution_count": 3,
     "metadata": {},
     "output_type": "execute_result"
    },
    {
     "data": {
      "image/png": "[encoded data removed]",
      "text/plain": [
       "<Figure size 432x288 with 1 Axes>"
      ]
     },
     "metadata": {
      "needs_background": "light"
     },
     "output_type": "display_data"
    }
   ],
   "source": [
    "plt.imshow(data,'gray')\n",
    "plt.title(\"Input Image\")"
   ]
  },
  {
   "cell_type": "code",
   "execution_count": 4,
   "metadata": {},
   "outputs": [],
   "source": [
    "#slice \"data\" into grids of side \"grid\"\n",
    "def slice(data,grid):\n",
    "    #height, width, channels=data.shape\n",
    "    height, width=data.shape\n",
    "    h2=height//grid\n",
    "    w2=width//grid\n",
    "    data3=[]\n",
    "    sum_row=0\n",
    "    for i in range(0,grid):\n",
    "        sum_column=0\n",
    "        for j in range(0,grid):\n",
    "            data_temp=data[sum_row:sum_row+h2,sum_column:sum_column+w2]\n",
    "            data3.append(data_temp)\n",
    "            sum_column+=w2\n",
    "        sum_row+=h2\n",
    "    return np.array(data3)\n",
    "def plot_grid(data2,grid):\n",
    "    for i in range(1, grid*grid+1):\n",
    "        plt.subplot(grid, grid, i)\n",
    "        plt.imshow(data2[i-1],'gray')\n",
    "        plt.xticks([])\n",
    "        plt.yticks([])\n",
    "        plt.suptitle('Preprocessed Image', y=1.05, fontsize=24)\n",
    "\n",
    "def get_centroids(grid,individual_height,individual_width):\n",
    "    centroids=[]\n",
    "    h_sum=0\n",
    "    for i in range(0,grid):\n",
    "        w_sum=0\n",
    "        for j in range(0,grid):\n",
    "            centroids.append([individual_height/2+h_sum,individual_width/2+w_sum])\n",
    "            w_sum+=individual_width\n",
    "        h_sum+=individual_height\n",
    "    centroids=np.array(centroids)\n",
    "    return centroids\n",
    "\n",
    "def difference_between(a,b):\n",
    "    return abs(a-b)\n",
    "\n",
    "def get_slices(image,centroids,individual_height,individual_width,orig_height,orig_width):\n",
    "    data2=[]\n",
    "#     print('before individual_height',individual_height)\n",
    "#     print('before individual_width',individual_width)\n",
    "    \n",
    "    individual_height=int(individual_height)\n",
    "    individual_width=int(individual_width)\n",
    "    \n",
    "#     print('after individual_height',individual_height)\n",
    "#     print('after individual_width',individual_width)\n",
    "    \n",
    "#     print()\n",
    "#     print('orig_height',orig_height)\n",
    "#     print('orig_width',orig_width)\n",
    "    for centroid in centroids:\n",
    "        centroid[0]=int(centroid[0])\n",
    "        centroid[1]=int(centroid[1])\n",
    "        \n",
    "#         print(\"height\",centroid[0],\"width\",centroid[1])\n",
    "#         print()\n",
    "        \n",
    "        crop=np.zeros((individual_height,individual_width))\n",
    "                \n",
    "        crop_lower_height=0\n",
    "        crop_upper_height=individual_height\n",
    "        crop_lower_width=0\n",
    "        crop_upper_width=individual_width\n",
    "        lower_height=int(centroid[0]-individual_height/2)\n",
    "        upper_height=int(centroid[0]+individual_height/2)\n",
    "        lower_width=int(centroid[1]-individual_width/2)\n",
    "        upper_width=int(centroid[1]+individual_width/2)\n",
    "        \n",
    "        #basically make sure crop_upper_width - crop_lower_width= upper_width - lower_width\n",
    "        while (difference_between(crop_upper_width,crop_lower_width)!=difference_between(upper_width,lower_width)):\n",
    "            crop_upper_width-=1\n",
    "        \n",
    "        big_image_lower_height=0\n",
    "        big_image_upper_height=orig_height\n",
    "        big_image_lower_width=0\n",
    "        big_image_upper_width=orig_width\n",
    "        \n",
    "        \n",
    "        if(lower_height<big_image_lower_height):\n",
    "            crop_lower_height=difference_between(big_image_lower_height,lower_height)\n",
    "            lower_height=big_image_lower_height\n",
    "        \n",
    "        if(upper_height>big_image_upper_height):\n",
    "            crop_upper_height=individual_height-difference_between(big_image_upper_height,upper_height)\n",
    "            upper_height=big_image_upper_height\n",
    "        \n",
    "        if(lower_width<big_image_lower_width):\n",
    "            crop_lower_width=difference_between(big_image_lower_width,lower_width)\n",
    "            lower_width=big_image_lower_width\n",
    "        \n",
    "        if(upper_width>big_image_upper_width):\n",
    "            crop_upper_width=individual_width-difference_between(big_image_upper_width,upper_width)\n",
    "            upper_width=big_image_upper_width\n",
    "        \n",
    "        \n",
    "        crop[crop_lower_height:crop_upper_height,crop_lower_width:crop_upper_width]=image[lower_height:upper_height,lower_width:upper_width]\n",
    "#         alternatively comment above statement and while loop\n",
    "#         and uncomment below statements\n",
    "#         size=difference_between(crop_lower_height,crop_upper_height),difference_between(crop_lower_width,crop_upper_width)\n",
    "#         crop[crop_lower_height:crop_upper_height,crop_lower_width:crop_upper_width]=scipy.misc.imresize(image[lower_height:upper_height,lower_width:upper_width],size)\n",
    "        data2.append(crop)\n",
    "    return np.array(data2)\n"
   ]
  },
  {
   "cell_type": "code",
   "execution_count": 5,
   "metadata": {},
   "outputs": [
    {
     "data": {
      "text/plain": [
       "(300, 500)"
      ]
     },
     "execution_count": 5,
     "metadata": {},
     "output_type": "execute_result"
    }
   ],
   "source": [
    "#orig_height, orig_width, orig_channels=data.shape\n",
    "orig_height, orig_width=data.shape\n",
    "\n",
    "data.shape"
   ]
  },
  {
   "cell_type": "code",
   "execution_count": 6,
   "metadata": {},
   "outputs": [],
   "source": [
    "grid=3\n",
    "#data2=slice(data,grid)\n",
    "#get_slices2(image,centroids,individual_height,individual_width,orig_height,orig_width)\n",
    "individual_height=orig_height//grid\n",
    "individual_width=orig_width//grid"
   ]
  },
  {
   "cell_type": "code",
   "execution_count": 7,
   "metadata": {},
   "outputs": [
    {
     "data": {
      "text/plain": [
       "(9, 2)"
      ]
     },
     "execution_count": 7,
     "metadata": {},
     "output_type": "execute_result"
    }
   ],
   "source": [
    "centroids=get_centroids(grid,individual_height,individual_width)\n",
    "centroids.shape"
   ]
  },
  {
   "cell_type": "code",
   "execution_count": 8,
   "metadata": {},
   "outputs": [],
   "source": [
    "data2=get_slices(data,centroids,individual_height*2,individual_width,orig_height,orig_width)\n",
    "#data2=slice(data,grid)"
   ]
  },
  {
   "cell_type": "code",
   "execution_count": 9,
   "metadata": {},
   "outputs": [
    {
     "data": {
      "text/plain": [
       "(9, 200, 166)"
      ]
     },
     "execution_count": 9,
     "metadata": {},
     "output_type": "execute_result"
    }
   ],
   "source": [
    "data2.shape"
   ]
  },
  {
   "cell_type": "code",
   "execution_count": 10,
   "metadata": {},
   "outputs": [
    {
     "data": {
      "image/png": "[encoded data removed]",
      "text/plain": [
       "<Figure size 432x288 with 9 Axes>"
      ]
     },
     "metadata": {
      "needs_background": "light"
     },
     "output_type": "display_data"
    }
   ],
   "source": [
    "for i in range(1, grid*grid+1):\n",
    "    plt.subplot(grid, grid, i)\n",
    "    plt.imshow(data2[i-1],'gray')\n",
    "#plt.savefig('sliced.jpg')"
   ]
  },
  {
   "cell_type": "code",
   "execution_count": 11,
   "metadata": {},
   "outputs": [],
   "source": [
    "#RUN these through MNIST model"
   ]
  },
  {
   "cell_type": "code",
   "execution_count": 12,
   "metadata": {},
   "outputs": [],
   "source": [
    "reload_filename='MNISTMLP.hdf5'\n",
    "model = load_model(reload_filename)"
   ]
  },
  {
   "cell_type": "code",
   "execution_count": 13,
   "metadata": {},
   "outputs": [
    {
     "data": {
      "text/plain": [
       "(9, 200, 166)"
      ]
     },
     "execution_count": 13,
     "metadata": {},
     "output_type": "execute_result"
    }
   ],
   "source": [
    "data2.shape"
   ]
  },
  {
   "cell_type": "code",
   "execution_count": 14,
   "metadata": {},
   "outputs": [],
   "source": [
    "#have to convert image to black and white"
   ]
  },
  {
   "cell_type": "code",
   "execution_count": 15,
   "metadata": {},
   "outputs": [
    {
     "name": "stderr",
     "output_type": "stream",
     "text": [
      "/home/rahulsuresh/python-environments/env/lib/python3.5/site-packages/ipykernel_launcher.py:4: DeprecationWarning: `imresize` is deprecated!\n",
      "`imresize` is deprecated in SciPy 1.0.0, and will be removed in 1.3.0.\n",
      "Use Pillow instead: ``numpy.array(Image.fromarray(arr).resize())``.\n",
      "  after removing the cwd from sys.path.\n"
     ]
    }
   ],
   "source": [
    "size=28,28\n",
    "temp=[]\n",
    "for i in range(0,data2.shape[0]):\n",
    "    temp.append(scipy.misc.imresize(data2[i],size))\n",
    "temp=np.array(temp)"
   ]
  },
  {
   "cell_type": "code",
   "execution_count": 16,
   "metadata": {},
   "outputs": [
    {
     "data": {
      "text/plain": [
       "(9, 28, 28)"
      ]
     },
     "execution_count": 16,
     "metadata": {},
     "output_type": "execute_result"
    }
   ],
   "source": [
    "num,dim,_=temp.shape\n",
    "temp.shape"
   ]
  },
  {
   "cell_type": "code",
   "execution_count": 17,
   "metadata": {},
   "outputs": [
    {
     "data": {
      "image/png": "[encoded data removed]",
      "text/plain": [
       "<Figure size 432x288 with 9 Axes>"
      ]
     },
     "metadata": {},
     "output_type": "display_data"
    }
   ],
   "source": [
    "for i in range(1, grid*grid+1):\n",
    "    plt.subplot(grid, grid, i)\n",
    "    plt.imshow(temp[i-1],'gray')\n",
    "    plt.xticks([])\n",
    "    plt.yticks([])\n",
    "    plt.suptitle('Preprocessed Image', y=1.05, fontsize=24)"
   ]
  },
  {
   "cell_type": "code",
   "execution_count": 18,
   "metadata": {},
   "outputs": [],
   "source": [
    "train_data = temp.reshape(num, dim*dim)"
   ]
  },
  {
   "cell_type": "code",
   "execution_count": 19,
   "metadata": {},
   "outputs": [],
   "source": [
    "train_data = train_data.astype('float32')\n",
    "train_data /= 255"
   ]
  },
  {
   "cell_type": "code",
   "execution_count": 20,
   "metadata": {},
   "outputs": [
    {
     "data": {
      "text/plain": [
       "(9, 784)"
      ]
     },
     "execution_count": 20,
     "metadata": {},
     "output_type": "execute_result"
    }
   ],
   "source": [
    "train_data.shape"
   ]
  },
  {
   "cell_type": "code",
   "execution_count": 21,
   "metadata": {},
   "outputs": [],
   "source": [
    "results=model.predict(train_data)"
   ]
  },
  {
   "cell_type": "code",
   "execution_count": 22,
   "metadata": {},
   "outputs": [
    {
     "name": "stderr",
     "output_type": "stream",
     "text": [
      "/home/rahulsuresh/python-environments/env/lib/python3.5/site-packages/matplotlib/tight_layout.py:176: UserWarning: Tight layout not applied. The left and right margins cannot be made large enough to accommodate all axes decorations. \n",
      "  warnings.warn('Tight layout not applied. The left and right margins '\n"
     ]
    },
    {
     "data": {
      "image/png": "[encoded data removed]",
      "text/plain": [
       "<Figure size 432x288 with 9 Axes>"
      ]
     },
     "metadata": {},
     "output_type": "display_data"
    }
   ],
   "source": [
    "for i in range(1, grid*grid+1):\n",
    "    plt.subplot(grid, grid, i).set_title(np.argmax(results[i-1]))\n",
    "    plt.imshow(temp[i-1],'gray')\n",
    "    plt.xticks([])\n",
    "    plt.yticks([])\n",
    "    plt.tight_layout()\n",
    "    plt.suptitle('Result', y=1.05, fontsize=24)\n",
    "    plt.tight_layout(rect=[1, 1, 0.8, 1])"
   ]
  },
  {
   "cell_type": "code",
   "execution_count": 71,
   "metadata": {},
   "outputs": [],
   "source": [
    "#have to get a more robust model\n",
    "#and a better sliding window model"
   ]
  },
  {
   "cell_type": "code",
   "execution_count": null,
   "metadata": {},
   "outputs": [],
   "source": [
    "#so now have to train model to tell which is back ground and which is foreground"
   ]
  },
  {
   "cell_type": "markdown",
   "metadata": {},
   "source": [
    "Prediction for single image"
   ]
  },
  {
   "cell_type": "code",
   "execution_count": 92,
   "metadata": {},
   "outputs": [],
   "source": [
    "img2 = Image.open('pricelabel_digit.jpg' )\n",
    "img2.load()\n",
    "img2 = img2.convert('1')\n",
    "data_digit = np.asarray( img2, dtype=\"int32\" )"
   ]
  },
  {
   "cell_type": "code",
   "execution_count": 99,
   "metadata": {},
   "outputs": [
    {
     "data": {
      "text/plain": [
       "Text(0.5, 1.0, 'Input Image')"
      ]
     },
     "execution_count": 99,
     "metadata": {},
     "output_type": "execute_result"
    },
    {
     "data": {
      "image/png": "[encoded data removed]",
      "text/plain": [
       "<Figure size 432x288 with 1 Axes>"
      ]
     },
     "metadata": {
      "needs_background": "light"
     },
     "output_type": "display_data"
    }
   ],
   "source": [
    "plt.imshow(data_digit,'gray')\n",
    "plt.title(\"Input Image\")"
   ]
  },
  {
   "cell_type": "code",
   "execution_count": 110,
   "metadata": {},
   "outputs": [
    {
     "name": "stderr",
     "output_type": "stream",
     "text": [
      "/home/rahulsuresh/python-environments/env/lib/python3.5/site-packages/ipykernel_launcher.py:3: DeprecationWarning: `imresize` is deprecated!\n",
      "`imresize` is deprecated in SciPy 1.0.0, and will be removed in 1.3.0.\n",
      "Use Pillow instead: ``numpy.array(Image.fromarray(arr).resize())``.\n",
      "  This is separate from the ipykernel package so we can avoid doing imports until\n"
     ]
    }
   ],
   "source": [
    "size=28,28\n",
    "temp2=[]\n",
    "temp2.append(scipy.misc.imresize(data_digit,size))\n",
    "temp2=np.array(temp2)"
   ]
  },
  {
   "cell_type": "code",
   "execution_count": 111,
   "metadata": {},
   "outputs": [
    {
     "data": {
      "text/plain": [
       "(1, 28, 28)"
      ]
     },
     "execution_count": 111,
     "metadata": {},
     "output_type": "execute_result"
    }
   ],
   "source": [
    "temp2.shape"
   ]
  },
  {
   "cell_type": "code",
   "execution_count": 114,
   "metadata": {},
   "outputs": [
    {
     "data": {
      "text/plain": [
       "Text(0.5, 1.0, 'Preprocessed Image')"
      ]
     },
     "execution_count": 114,
     "metadata": {},
     "output_type": "execute_result"
    },
    {
     "data": {
      "image/png": "[encoded data removed]",
      "text/plain": [
       "<Figure size 432x288 with 1 Axes>"
      ]
     },
     "metadata": {
      "needs_background": "light"
     },
     "output_type": "display_data"
    }
   ],
   "source": [
    "plt.imshow(temp2[0],'gray')\n",
    "plt.title(\"Preprocessed Image\")"
   ]
  },
  {
   "cell_type": "code",
   "execution_count": 121,
   "metadata": {},
   "outputs": [],
   "source": [
    "dim=28"
   ]
  },
  {
   "cell_type": "code",
   "execution_count": 122,
   "metadata": {},
   "outputs": [],
   "source": [
    "train_data2 = temp2.reshape(1,dim*dim)"
   ]
  },
  {
   "cell_type": "code",
   "execution_count": 123,
   "metadata": {},
   "outputs": [],
   "source": [
    "train_data2 = train_data2.astype('float32')\n",
    "train_data2 /= 255"
   ]
  },
  {
   "cell_type": "code",
   "execution_count": 150,
   "metadata": {},
   "outputs": [],
   "source": [
    "reload_filename2='TFKeras.h5'\n",
    "model2 = load_model(reload_filename2)"
   ]
  },
  {
   "cell_type": "code",
   "execution_count": 151,
   "metadata": {},
   "outputs": [
    {
     "data": {
      "text/plain": [
       "5"
      ]
     },
     "execution_count": 151,
     "metadata": {},
     "output_type": "execute_result"
    }
   ],
   "source": [
    "np.argmax(model2.predict(train_data2))"
   ]
  },
  {
   "cell_type": "code",
   "execution_count": null,
   "metadata": {},
   "outputs": [],
   "source": []
  }
 ],
 "metadata": {
  "kernelspec": {
   "display_name": "Python 3",
   "language": "python",
   "name": "python3"
  },
  "language_info": {
   "codemirror_mode": {
    "name": "ipython",
    "version": 3
   },
   "file_extension": ".py",
   "mimetype": "text/x-python",
   "name": "python",
   "nbconvert_exporter": "python",
   "pygments_lexer": "ipython3",
   "version": "3.5.2"
  }
 },
 "nbformat": 4,
 "nbformat_minor": 2
}
